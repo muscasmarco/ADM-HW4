{
 "cells": [
  {
   "cell_type": "markdown",
   "metadata": {},
   "source": [
    "# 3. Find similar wines!"
   ]
  },
  {
   "cell_type": "markdown",
   "metadata": {},
   "source": [
    "In this part, we should implement k-means clustering algorithm on the wine dataset from scratch.\n",
    "\n",
    "First of all, we downloaded the dataset from the given link and converting the dataset to a dataframe. \n",
    "\n",
    "By considering the dataset, we have 3 functions silhouette score for finding the optimal number of clusters, K-means algorithm and Rand index for compute similarity between two results, respectively."
   ]
  },
  {
   "cell_type": "markdown",
   "metadata": {},
   "source": [
    "## Libraries : "
   ]
  },
  {
   "cell_type": "code",
   "execution_count": 1,
   "metadata": {},
   "outputs": [],
   "source": [
    "import pandas as pd\n",
    "import random as rnd\n",
    "import numpy as np\n",
    "from sklearn.cluster import KMeans\n",
    "from sklearn.metrics import silhouette_score\n",
    "import matplotlib.pyplot as plt\n",
    "import math"
   ]
  },
  {
   "cell_type": "markdown",
   "metadata": {},
   "source": [
    "## Import data :\n",
    "Read the downloaded dataset and convert to dataframe for better parsing."
   ]
  },
  {
   "cell_type": "code",
   "execution_count": 2,
   "metadata": {},
   "outputs": [],
   "source": [
    "d = pd.read_csv(r\"F:\\Data Scinece\\ADM\\HomeWork\\4\\data set\\wine.csv\")\n",
    "df = pd.DataFrame(d)\n",
    "\n",
    "# name the columns based on the information in the provided link\n",
    "\n",
    "df.columns = [\"class identifier\",\"Alcohol\",\"Malic acid\",\"Ash\",\"Alcalinity of ash\",\"Magnesium\",\"Total phenols\",\n",
    "            \"Flavanoids\",\"Nonflavanoid phenols\",\"Proanthocyanins\",\"Color intensity\",\"Hue\",\n",
    "            \"OD280/OD315 of diluted wines\",\"Proline\"]"
   ]
  },
  {
   "cell_type": "markdown",
   "metadata": {},
   "source": [
    "## Finding optimal number of clusters by using silhouette score :\n",
    "Silhouette analysis can be used to study the separation distance between the resulting clusters. The silhouette plot displays a measure of how close each point in one cluster is to points in the neighboring clusters and thus provides a way to assess parameters like number of clusters visually. This measure has a range of [-1, 1].\n",
    "\n",
    "Silhouette coefficients (as these values are referred to as) near +1 indicate that the sample is far away from the neighboring clusters. A value of 0 indicates that the sample is on or very close to the decision boundary between two neighboring clusters and negative values indicate that those samples might have been assigned to the wrong cluster.\n",
    "\n",
    "Here is the function that calculate the optimal number of clusters based on this method:"
   ]
  },
  {
   "cell_type": "code",
   "execution_count": 13,
   "metadata": {},
   "outputs": [],
   "source": [
    "# Use silhouette score to find optimal number of clusters:\n",
    "\n",
    "def n_cluster(df,A,B):\n",
    "    \n",
    "    # range of number of clusters for analysing\n",
    "    num_clusters = np.arange(2,10)\n",
    "    \n",
    "    results = {}\n",
    "    # filter selected features for clustering\n",
    "    data = df[[A,B]].copy()\n",
    "    \n",
    "    for size in num_clusters:\n",
    "        \n",
    "        # Fitting K-Means to the dataset\n",
    "        model = KMeans(n_clusters = size).fit(data)\n",
    "        predictions = model.predict(data)\n",
    "        \n",
    "        # Compute the silhouette scores for each sample\n",
    "        results[size] = silhouette_score(data, predictions)\n",
    "    best_size = max(results,key=results.get)\n",
    "    \n",
    "    return best_size"
   ]
  },
  {
   "cell_type": "markdown",
   "metadata": {},
   "source": [
    "## K-means Algorithm Function :\n",
    "The K-means algorithm starts with a first group of randomly selected centroids, which are used as the beginning points for every cluster, and then performs iterative calculations to optimize the positions of the centroids.\n",
    "\n",
    "In this algorithm, the inputs of function is main dataset, the 2 features selected for analyzing and number of clusters which that provided from previous function. For initial centroids, we use this approach:\n",
    "\n",
    "    1.pick the first point at random\n",
    "    2.WHILE there are fewer than k points DO\n",
    "        Add the point whose minimum distance from the selected points is as large as possible;\n",
    "    END\n",
    "In next step, we compute Euclidean distance of all point to centroids, and put each point to the cluster which its centroid has minimum distance to the point. \n",
    "\n",
    "After that, calculate new centroid based on the clusters and again allocate points to them.\n",
    "we repeat this step untill we see no changes in the clusters.\n"
   ]
  },
  {
   "cell_type": "code",
   "execution_count": 5,
   "metadata": {},
   "outputs": [],
   "source": [
    "\n",
    "def k_means(df,A,B,K):\n",
    "    # filter the dataset based on the selected features \n",
    "    df = df[[A,B]].copy()\n",
    "    n = len(df)\n",
    "    # select a random points as first centroid\n",
    "    R = rnd.randrange(0,n-1)\n",
    "    # put the information of centroids in a list\n",
    "    k_list = [df.iloc[R]]\n",
    "    \n",
    "    i = 0\n",
    "    distance = pd.DataFrame()\n",
    "\n",
    "    while len(k_list) < K :\n",
    "\n",
    "        point = k_list[i]\n",
    "        # calculate Euclidean distance of centroids from points\n",
    "        new_df = df.apply(lambda x : (x - point)**2 , axis = 1)\n",
    "        distance[i] = new_df.sum(axis = 1).apply(lambda x : x**(1/2))\n",
    "        \n",
    "        # select the point with minmax distance as a new centroid\n",
    "        new_k = (distance.min(axis = 1)).idxmax()\n",
    "        k_list.append(df.iloc[new_k])\n",
    "        i += 1\n",
    "        \n",
    "    dist = pd.DataFrame()\n",
    "\n",
    "    for i in range(len(k_list)) :\n",
    "            # calculate the Euclidean distance of centroid from other points\n",
    "            point = k_list[i]\n",
    "            new_df = df.apply(lambda x : (x - point)**2 , axis = 1)\n",
    "            dist[i] = new_df.sum(axis = 1).apply(lambda x : x**(1/2))\n",
    "    \n",
    "    # allocate points to clusters based on minimum distance from centroids\n",
    "    cluster = dist.idxmin(axis = 1)\n",
    "   \n",
    "    df[\"cluster\"] = cluster\n",
    "    \n",
    "    # create a dataframe to save the previous result of clustering\n",
    "    cluster_pre = pd.Series(np.zeros(len(df)))\n",
    "    \n",
    "    # we repeat calculating distance and finding new centorids and new clusters untill the provided result was exactly the same \n",
    "    # with the previous one\n",
    "    while cluster.equals(cluster_pre) == False :\n",
    "        \n",
    "        #calculate the centroid from the cluster by getting the position of all points of a single cluster, sum them up \n",
    "        #and divide by the number of points.(mean)\n",
    "        centroid = df.groupby(\"cluster\").mean()\n",
    "        df = df.drop(['cluster'], axis=1)\n",
    "\n",
    "        for i in range(len(centroid)):\n",
    "            k_list[i] = centroid.iloc[i]\n",
    "\n",
    "        for i in range(len(k_list)) :\n",
    "\n",
    "            point = k_list[i]\n",
    "            new_df = df.apply(lambda x : (x - point)**2 , axis = 1)\n",
    "            dist[i] = new_df.sum(axis = 1).apply(lambda x : x**(1/2))\n",
    "\n",
    "        cluster_pre = cluster    \n",
    "        cluster = dist.idxmin(axis = 1)\n",
    "        df[\"cluster\"] = cluster\n",
    "        return df, centroid"
   ]
  },
  {
   "cell_type": "markdown",
   "metadata": {},
   "source": [
    "## Finding Similarity between results by Rand Index :\n",
    "Rand Index is a measure of the similarity between two data clusterings.\n",
    "\n",
    "Given a set of n elements S=\\{o1,...,on} and two partitions of S to compare, X={X1,..., Xr}, a partition of S into r subsets, and Y={Y1,..., Ys}, a partition of S into s subsets, define the following:\n",
    "\n",
    "    a: the number of pairs of elements in S that are in the same subset in X and in the same subset in Y\n",
    "    b: the number of pairs of elements in S that are in different subsets in X and in different subsets in Y\n",
    "The Rand index, R is:\n",
    "\n",
    "        R= (a+b)/(n!/2*(n-2)!)"
   ]
  },
  {
   "cell_type": "code",
   "execution_count": 6,
   "metadata": {},
   "outputs": [],
   "source": [
    "def Rand_index(df ,df1):\n",
    "    # finding \"a\" based on the explanation\n",
    "    tuple_A = 0\n",
    "    # finding \"b\" based on the explanation\n",
    "    tuple_B = 0\n",
    "    n = len(df)\n",
    "    for j in range(n - 1):\n",
    "        for h in range(j + 1, n):\n",
    "            \n",
    "            if df['cluster'].iloc[j] == df['cluster'].iloc[h] and df1['cluster'].iloc[j] == df1['cluster'].iloc[h]:\n",
    "                tuple_A += 1\n",
    "                \n",
    "            elif df['cluster'].iloc[j] != df['cluster'].iloc[h] and df1['cluster'].iloc[j] != df1['cluster'].iloc[h]:\n",
    "                tuple_B += 1\n",
    "\n",
    "    Similarity =round((tuple_A + tuple_B)*100 / (math.factorial(n)/(2 * math.factorial(n-2))))\n",
    "    \n",
    "    print('Similarity between 2 clusters equals to %s%%'%(Similarity))"
   ]
  },
  {
   "cell_type": "markdown",
   "metadata": {},
   "source": [
    "## Ploting distributions for features :"
   ]
  },
  {
   "cell_type": "code",
   "execution_count": 14,
   "metadata": {},
   "outputs": [
    {
     "data": {
      "image/png": "[encoded data removed]",
      "text/plain": [
       "<Figure size 432x288 with 1 Axes>"
      ]
     },
     "metadata": {
      "needs_background": "light"
     },
     "output_type": "display_data"
    }
   ],
   "source": [
    "# calculate the number of clusters with the function\n",
    "K = n_cluster(df,\"Alcohol\",\"Malic acid\")\n",
    "\n",
    "#calculate k-means with function\n",
    "data, centroid = k_means(df,\"Alcohol\",\"Malic acid\",K)\n",
    "\n",
    "#ploting the distribution\n",
    "color = ['blue','green','red','yellow','crimson','aqua','chocolate','coral','plum','maroon']\n",
    "for k in range(K):\n",
    "    d = data[data[\"cluster\"] == k]\n",
    "    plt.scatter(d[\"Alcohol\"],d[\"Malic acid\"],c = color[k])\n",
    "plt.scatter(centroid[\"Alcohol\"],centroid[\"Malic acid\"],c = 'black', marker = 'X',s = 100) #Centroids\n",
    "plt.xlabel('Alcohol')\n",
    "plt.ylabel('Malic acid')\n",
    "plt.show()"
   ]
  },
  {
   "cell_type": "markdown",
   "metadata": {},
   "source": [
    "## Calculating similarity between results : \n",
    "Based on the results which provided by repeating the functions, we can see that clusters are very similar too each other."
   ]
  },
  {
   "cell_type": "code",
   "execution_count": 15,
   "metadata": {},
   "outputs": [
    {
     "name": "stdout",
     "output_type": "stream",
     "text": [
      "Similarity between 2 clusters equals to 88%\n"
     ]
    }
   ],
   "source": [
    "data1, x = k_means(df,\"Alcohol\",\"Malic acid\",K)\n",
    "Rand_index(data, data1)"
   ]
  },
  {
   "cell_type": "code",
   "execution_count": 16,
   "metadata": {},
   "outputs": [
    {
     "data": {
      "image/png": "[encoded data removed]",
      "text/plain": [
       "<Figure size 432x288 with 1 Axes>"
      ]
     },
     "metadata": {
      "needs_background": "light"
     },
     "output_type": "display_data"
    }
   ],
   "source": [
    "K = n_cluster(df,\"Alcohol\",\"Ash\")\n",
    "data, centroid = k_means(df,\"Alcohol\",\"Ash\",K)\n",
    "\n",
    "color = ['blue','green','red','yellow','crimson','aqua','chocolate','coral','plum','maroon']\n",
    "for k in range(K):\n",
    "    d = data[data[\"cluster\"] == k]\n",
    "    plt.scatter(d[\"Alcohol\"],d[\"Ash\"],c = color[k])\n",
    "plt.scatter(centroid[\"Alcohol\"],centroid[\"Ash\"],c = 'black', marker = 'X',s = 100) #Centroids\n",
    "plt.xlabel('Alcohol')\n",
    "plt.ylabel('Ash')\n",
    "plt.show()"
   ]
  },
  {
   "cell_type": "code",
   "execution_count": 17,
   "metadata": {},
   "outputs": [
    {
     "name": "stdout",
     "output_type": "stream",
     "text": [
      "Similarity between 2 clusters equals to 99%\n"
     ]
    },
    {
     "data": {
      "image/png": "[encoded data removed]",
      "text/plain": [
       "<Figure size 432x288 with 1 Axes>"
      ]
     },
     "metadata": {
      "needs_background": "light"
     },
     "output_type": "display_data"
    }
   ],
   "source": [
    "data1, x = k_means(df,\"Alcohol\",\"Ash\",K)\n",
    "Rand_index(data, data1)\n",
    "color = ['blue','green','red','yellow','crimson','aqua','chocolate','coral','plum','maroon']\n",
    "for k in range(K):\n",
    "    d = data1[data1[\"cluster\"] == k]\n",
    "    plt.scatter(d[\"Alcohol\"],d[\"Ash\"],c = color[k])\n",
    "plt.scatter(centroid[\"Alcohol\"],centroid[\"Ash\"],c = 'black', marker = 'X',s = 100) #Centroids\n",
    "plt.xlabel('Alcohol')\n",
    "plt.ylabel('Ash')\n",
    "plt.show()"
   ]
  }
 ],
 "metadata": {
  "kernelspec": {
   "display_name": "Python 3",
   "language": "python",
   "name": "python3"
  },
  "language_info": {
   "codemirror_mode": {
    "name": "ipython",
    "version": 3
   },
   "file_extension": ".py",
   "mimetype": "text/x-python",
   "name": "python",
   "nbconvert_exporter": "python",
   "pygments_lexer": "ipython3",
   "version": "3.7.4"
  }
 },
 "nbformat": 4,
 "nbformat_minor": 2
}
